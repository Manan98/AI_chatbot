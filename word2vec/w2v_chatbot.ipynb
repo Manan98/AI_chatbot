{
 "cells": [
  {
   "cell_type": "code",
   "execution_count": 13,
   "metadata": {
    "collapsed": true
   },
   "outputs": [],
   "source": [
    "import gensim"
   ]
  },
  {
   "cell_type": "code",
   "execution_count": 14,
   "metadata": {
    "collapsed": true
   },
   "outputs": [],
   "source": [
    "sentences = [['AI', 'prac', 'first', 'sentence'], ['AI', 'prac', 'second', 'sentence']] #training data"
   ]
  },
  {
   "cell_type": "code",
   "execution_count": 15,
   "metadata": {},
   "outputs": [
    {
     "name": "stdout",
     "output_type": "stream",
     "text": [
      "Word2Vec(vocab=5, size=100, alpha=0.025)\n"
     ]
    }
   ],
   "source": [
    "model = gensim.models.Word2Vec(sentences, min_count=1) #creating and training the model \n",
    "print(model)"
   ]
  },
  {
   "cell_type": "code",
   "execution_count": 16,
   "metadata": {},
   "outputs": [
    {
     "name": "stdout",
     "output_type": "stream",
     "text": [
      "['AI', 'prac', 'first', 'sentence', 'second']\n"
     ]
    }
   ],
   "source": [
    "words = list(model.wv.vocab)    # wv is used to access the trained model\n",
    "print(words)       # prints learned vocabulary of tokens"
   ]
  },
  {
   "cell_type": "code",
   "execution_count": 17,
   "metadata": {},
   "outputs": [
    {
     "name": "stdout",
     "output_type": "stream",
     "text": [
      "[ 2.0684979e-03  1.7334555e-03 -3.8348993e-03  4.9957214e-03\n",
      "  5.2200479e-04 -3.6906037e-03 -4.4902130e-03 -3.0901681e-03\n",
      "  3.8196195e-03  4.6232431e-03 -4.0405095e-03 -3.1053284e-03\n",
      " -4.4816560e-03 -2.3700015e-03  1.3470005e-03  1.8598274e-03\n",
      " -4.3229307e-03  4.0588188e-03 -7.9524273e-04 -4.5727282e-03\n",
      " -2.2283928e-03  8.6229376e-04  1.6538076e-03 -1.3650892e-03\n",
      "  4.0827226e-03  2.6482823e-03  1.8412643e-04  4.1288761e-03\n",
      " -1.1589958e-03  2.1385916e-03  3.5919519e-03 -2.8761473e-04\n",
      " -2.4886981e-03  1.4635283e-03 -5.0153676e-04 -4.8256214e-03\n",
      "  1.5738524e-03  1.3916573e-03 -3.7631099e-03  1.0423343e-04\n",
      "  3.5319254e-03  2.2810737e-03  4.7184560e-03  2.7413215e-04\n",
      "  1.5429367e-04 -7.4540725e-04  4.0266942e-03  7.9289713e-04\n",
      " -2.1853058e-03 -4.8200721e-03  1.0837711e-03 -7.7352954e-05\n",
      " -2.0361308e-03 -1.4296242e-03  4.4872006e-03  2.6413286e-03\n",
      " -6.2275794e-04 -4.9079326e-03 -4.8490558e-03 -3.4229713e-03\n",
      "  3.7562158e-03  1.5102004e-03 -9.7915600e-04  4.4096159e-03\n",
      " -2.7284394e-03 -2.8911626e-03  4.4094410e-04 -2.7284466e-03\n",
      "  4.4534151e-03 -6.4700493e-04  1.6910599e-03  1.3323754e-04\n",
      " -1.1148086e-03 -4.9435641e-03 -3.2423399e-03  3.3954931e-03\n",
      "  9.4483339e-04 -4.4809701e-03 -2.8013622e-03  1.1350161e-03\n",
      " -3.0782374e-04 -6.7095709e-04 -3.7414266e-05  4.4095581e-03\n",
      "  2.5740843e-03 -2.2536896e-03 -4.4138129e-03  3.9913934e-03\n",
      "  1.3439087e-03 -1.6111681e-03  3.3505592e-03  2.0156768e-03\n",
      "  4.9365386e-03  6.9746352e-04 -1.9962084e-03 -8.0168410e-04\n",
      "  3.3657544e-03 -4.0530674e-03 -1.0260622e-03 -3.7546880e-03]\n"
     ]
    },
    {
     "name": "stderr",
     "output_type": "stream",
     "text": [
      "/anaconda3/lib/python3.6/site-packages/ipykernel_launcher.py:1: DeprecationWarning: Call to deprecated `__getitem__` (Method will be removed in 4.0.0, use self.wv.__getitem__() instead).\n",
      "  \"\"\"Entry point for launching an IPython kernel.\n"
     ]
    }
   ],
   "source": [
    "print(model['prac']) # prints numpy vector of specific token. The word prac in this case."
   ]
  },
  {
   "cell_type": "code",
   "execution_count": null,
   "metadata": {
    "collapsed": true
   },
   "outputs": [],
   "source": []
  },
  {
   "cell_type": "code",
   "execution_count": null,
   "metadata": {
    "collapsed": true
   },
   "outputs": [],
   "source": []
  }
 ],
 "metadata": {
  "kernelspec": {
   "display_name": "Python 3",
   "language": "python",
   "name": "python3"
  },
  "language_info": {
   "codemirror_mode": {
    "name": "ipython",
    "version": 3
   },
   "file_extension": ".py",
   "mimetype": "text/x-python",
   "name": "python",
   "nbconvert_exporter": "python",
   "pygments_lexer": "ipython3",
   "version": "3.6.2"
  }
 },
 "nbformat": 4,
 "nbformat_minor": 2
}
